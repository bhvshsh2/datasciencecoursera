{
 "cells": [
  {
   "cell_type": "code",
   "execution_count": 7,
   "metadata": {},
   "outputs": [],
   "source": [
    "import numpy as np\n",
    "import pandas as pd\n",
    "import streamlit as st\n",
    "import pickle\n",
    "from PIL import Image\n",
    "\n",
    "#pickel_file=open('C://Users//Bhavesh//banglore_home_prices_model.pickle',encoding=\"utf8\")\n",
    "#predictor=pickle.load(pickel_file)\n",
    "with open('C://Users//Bhavesh//banglore_home_prices_model.pickle','rb') as file:\n",
    "    file1=pickle.load(file)\n",
    "def welcome():\n",
    "    return 'Welcome User'\n",
    "\n",
    "def predict_home_price(location,sqft,bath,bhk):\n",
    "    prediction=file1.predict([[location,sqft,bath,bhk]])\n",
    "    print(prediction)\n",
    "    return prediction\n",
    "\n",
    "def main():\n",
    "    st.title('Bengaluru Home Price Estimator')\n",
    "    location=st.text('Location',\"type here\")\n",
    "    sqft=st.text('Square Feet area',\"type here\")\n",
    "    bath=st.text('No of bathrooms',\"type here\")\n",
    "    bhk=st.text('No of bedrooms ',\"type here\")\n",
    "    if st.button('predict'):\n",
    "        result=predict_home_price(location,sqft,bath,bhk)\n",
    "    st.success('the output is :',result*100000)\n",
    "    if st.button('About'):\n",
    "        st.text('Created by Bhavesh Sharma')\n",
    "    if __name__=='__main__':\n",
    "        main()"
   ]
  },
  {
   "cell_type": "code",
   "execution_count": null,
   "metadata": {},
   "outputs": [],
   "source": []
  }
 ],
 "metadata": {
  "kernelspec": {
   "display_name": "Python 3",
   "language": "python",
   "name": "python3"
  },
  "language_info": {
   "codemirror_mode": {
    "name": "ipython",
    "version": 3
   },
   "file_extension": ".py",
   "mimetype": "text/x-python",
   "name": "python",
   "nbconvert_exporter": "python",
   "pygments_lexer": "ipython3",
   "version": "3.7.3"
  }
 },
 "nbformat": 4,
 "nbformat_minor": 2
}
